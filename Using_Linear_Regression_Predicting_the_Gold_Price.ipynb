{
  "nbformat": 4,
  "nbformat_minor": 0,
  "metadata": {
    "colab": {
      "name": " Using Linear Regression Predicting the Gold Price.ipynb",
      "provenance": [],
      "collapsed_sections": []
    },
    "kernelspec": {
      "name": "python3",
      "display_name": "Python 3"
    }
  },
  "cells": [
    {
      "cell_type": "markdown",
      "metadata": {
        "id": "PML4J7ZC2EZj"
      },
      "source": [
        "## Gold Price prediction using Linear Regression\r\n",
        "- Machine Learning linear regression model that takes information from the past Gold ETF (GLD) prices and returns a prediction of the Gold ETF price the next day.\r\n",
        "\r\n",
        "\r\n",
        "- GLD is the largest ETF to invest directly in physical gold. (source: http://www.etf.com/GLD)\r\n",
        "\r\n",
        "\r\n",
        "### Gold mutual funds are of two types \r\n",
        "- gold exchange traded funds (ETF) and gold savings funds. As the name suggests, gold ETFs are mutual fund schemes that invest in gold and are listed on the stock exchanges. This is done to mimic the price performance of the physical form of gold.\r\n",
        "\r\n",
        "\r\n",
        "\r\n"
      ]
    },
    {
      "cell_type": "markdown",
      "metadata": {
        "id": "wDzhpf0f3KFb"
      },
      "source": [
        "#### *Import the libraries and read the Gold ETF data*"
      ]
    },
    {
      "cell_type": "code",
      "metadata": {
        "id": "j9SDJ1yr15TP"
      },
      "source": [
        "#LinearRegression is a machine learing library for linear regression\r\n",
        "from sklearn.linear_model import LinearRegression"
      ],
      "execution_count": null,
      "outputs": []
    },
    {
      "cell_type": "code",
      "metadata": {
        "id": "bfoDu9-q3l61"
      },
      "source": [
        "#pandas and numpy are used for data manipulation\r\n",
        "import pandas as pd\r\n",
        "import numpy as np"
      ],
      "execution_count": null,
      "outputs": []
    },
    {
      "cell_type": "code",
      "metadata": {
        "id": "tGvc0tYP34V2"
      },
      "source": [
        "#matplotlib and seaborn are used for plotting graphs\r\n",
        "import matplotlib.pyplot as plt\r\n",
        "%matplotlib inline\r\n",
        "plt.style.use('seaborn-darkgrid')"
      ],
      "execution_count": null,
      "outputs": []
    },
    {
      "cell_type": "code",
      "metadata": {
        "colab": {
          "base_uri": "https://localhost:8080/"
        },
        "id": "ZgIxirfg4kRP",
        "outputId": "6da97612-25b4-4034-f75e-494ea7804a4c"
      },
      "source": [
        "pip install fix-yahoo-finance"
      ],
      "execution_count": null,
      "outputs": [
        {
          "output_type": "stream",
          "text": [
            "Requirement already satisfied: fix-yahoo-finance in /usr/local/lib/python3.6/dist-packages (0.0.22)\n",
            "Requirement already satisfied: numpy in /usr/local/lib/python3.6/dist-packages (from fix-yahoo-finance) (1.19.5)\n",
            "Requirement already satisfied: multitasking in /usr/local/lib/python3.6/dist-packages (from fix-yahoo-finance) (0.0.9)\n",
            "Requirement already satisfied: pandas in /usr/local/lib/python3.6/dist-packages (from fix-yahoo-finance) (1.1.5)\n",
            "Requirement already satisfied: requests in /usr/local/lib/python3.6/dist-packages (from fix-yahoo-finance) (2.23.0)\n",
            "Requirement already satisfied: pytz>=2017.2 in /usr/local/lib/python3.6/dist-packages (from pandas->fix-yahoo-finance) (2018.9)\n",
            "Requirement already satisfied: python-dateutil>=2.7.3 in /usr/local/lib/python3.6/dist-packages (from pandas->fix-yahoo-finance) (2.8.1)\n",
            "Requirement already satisfied: chardet<4,>=3.0.2 in /usr/local/lib/python3.6/dist-packages (from requests->fix-yahoo-finance) (3.0.4)\n",
            "Requirement already satisfied: certifi>=2017.4.17 in /usr/local/lib/python3.6/dist-packages (from requests->fix-yahoo-finance) (2020.12.5)\n",
            "Requirement already satisfied: urllib3!=1.25.0,!=1.25.1,<1.26,>=1.21.1 in /usr/local/lib/python3.6/dist-packages (from requests->fix-yahoo-finance) (1.24.3)\n",
            "Requirement already satisfied: idna<3,>=2.5 in /usr/local/lib/python3.6/dist-packages (from requests->fix-yahoo-finance) (2.10)\n",
            "Requirement already satisfied: six>=1.5 in /usr/local/lib/python3.6/dist-packages (from python-dateutil>=2.7.3->pandas->fix-yahoo-finance) (1.15.0)\n"
          ],
          "name": "stdout"
        }
      ]
    },
    {
      "cell_type": "code",
      "metadata": {
        "id": "zWz8KqQX4SYR"
      },
      "source": [
        "#fix yahoo finance is used to fetch data\r\n",
        "import fix_yahoo_finance as fyf"
      ],
      "execution_count": null,
      "outputs": []
    },
    {
      "cell_type": "code",
      "metadata": {
        "colab": {
          "base_uri": "https://localhost:8080/"
        },
        "id": "eT0FYBDM4YX_",
        "outputId": "2dca7378-01b9-4c27-9a95-3afe4ecdf8f3"
      },
      "source": [
        "pip install yfinance"
      ],
      "execution_count": null,
      "outputs": [
        {
          "output_type": "stream",
          "text": [
            "Collecting yfinance\n",
            "  Downloading https://files.pythonhosted.org/packages/7a/e8/b9d7104d3a4bf39924799067592d9e59119fcfc900a425a12e80a3123ec8/yfinance-0.1.55.tar.gz\n",
            "Requirement already satisfied: pandas>=0.24 in /usr/local/lib/python3.6/dist-packages (from yfinance) (1.1.5)\n",
            "Requirement already satisfied: numpy>=1.15 in /usr/local/lib/python3.6/dist-packages (from yfinance) (1.19.5)\n",
            "Requirement already satisfied: requests>=2.20 in /usr/local/lib/python3.6/dist-packages (from yfinance) (2.23.0)\n",
            "Requirement already satisfied: multitasking>=0.0.7 in /usr/local/lib/python3.6/dist-packages (from yfinance) (0.0.9)\n",
            "Collecting lxml>=4.5.1\n",
            "\u001b[?25l  Downloading https://files.pythonhosted.org/packages/bd/78/56a7c88a57d0d14945472535d0df9fb4bbad7d34ede658ec7961635c790e/lxml-4.6.2-cp36-cp36m-manylinux1_x86_64.whl (5.5MB)\n",
            "\u001b[K     |████████████████████████████████| 5.5MB 11.4MB/s \n",
            "\u001b[?25hRequirement already satisfied: pytz>=2017.2 in /usr/local/lib/python3.6/dist-packages (from pandas>=0.24->yfinance) (2018.9)\n",
            "Requirement already satisfied: python-dateutil>=2.7.3 in /usr/local/lib/python3.6/dist-packages (from pandas>=0.24->yfinance) (2.8.1)\n",
            "Requirement already satisfied: urllib3!=1.25.0,!=1.25.1,<1.26,>=1.21.1 in /usr/local/lib/python3.6/dist-packages (from requests>=2.20->yfinance) (1.24.3)\n",
            "Requirement already satisfied: idna<3,>=2.5 in /usr/local/lib/python3.6/dist-packages (from requests>=2.20->yfinance) (2.10)\n",
            "Requirement already satisfied: certifi>=2017.4.17 in /usr/local/lib/python3.6/dist-packages (from requests>=2.20->yfinance) (2020.12.5)\n",
            "Requirement already satisfied: chardet<4,>=3.0.2 in /usr/local/lib/python3.6/dist-packages (from requests>=2.20->yfinance) (3.0.4)\n",
            "Requirement already satisfied: six>=1.5 in /usr/local/lib/python3.6/dist-packages (from python-dateutil>=2.7.3->pandas>=0.24->yfinance) (1.15.0)\n",
            "Building wheels for collected packages: yfinance\n",
            "  Building wheel for yfinance (setup.py) ... \u001b[?25l\u001b[?25hdone\n",
            "  Created wheel for yfinance: filename=yfinance-0.1.55-py2.py3-none-any.whl size=22616 sha256=04663e1bcbd5dc4dc64bccfb7a0952149c04e36ce6e5526762b2a96dad231b00\n",
            "  Stored in directory: /root/.cache/pip/wheels/04/98/cc/2702a4242d60bdc14f48b4557c427ded1fe92aedf257d4565c\n",
            "Successfully built yfinance\n",
            "Installing collected packages: lxml, yfinance\n",
            "  Found existing installation: lxml 4.2.6\n",
            "    Uninstalling lxml-4.2.6:\n",
            "      Successfully uninstalled lxml-4.2.6\n",
            "Successfully installed lxml-4.6.2 yfinance-0.1.55\n"
          ],
          "name": "stdout"
        }
      ]
    },
    {
      "cell_type": "code",
      "metadata": {
        "id": "_VDpOUK95qBI"
      },
      "source": [
        "#yahoo finance is used to fetch data\r\n",
        "import yfinance as yf"
      ],
      "execution_count": null,
      "outputs": []
    },
    {
      "cell_type": "markdown",
      "metadata": {
        "id": "umUQRCnc6dJR"
      },
      "source": [
        "#### *Reading the data*\r\n",
        "- Now, we are going to read the past 12 years of daily Gold ETF price data and store it in Df. \r\n",
        "- After that we remove the colums which are not relevant and drop NaN values using dropna() function. \r\n",
        "- Then after that, we plot the Gold ETF close price."
      ]
    },
    {
      "cell_type": "code",
      "metadata": {
        "colab": {
          "base_uri": "https://localhost:8080/"
        },
        "id": "23YtMTpy5yTa",
        "outputId": "dbd7c068-c738-45ff-ceb0-cd413dbec87f"
      },
      "source": [
        "#Read data\r\n",
        "Df = yf.download('GLD', '2008-01-01', '2021-01-13', auto_adjust=True)"
      ],
      "execution_count": null,
      "outputs": [
        {
          "output_type": "stream",
          "text": [
            "\r[*********************100%***********************]  1 of 1 completed\n"
          ],
          "name": "stdout"
        }
      ]
    },
    {
      "cell_type": "code",
      "metadata": {
        "id": "suCZ4flHnrjO"
      },
      "source": [
        "#Only keep close colums\r\n",
        "Df = Df[['Close']]"
      ],
      "execution_count": null,
      "outputs": []
    },
    {
      "cell_type": "code",
      "metadata": {
        "id": "HrDH7lxbnxAX"
      },
      "source": [
        "#Drop rows with missing values\r\n",
        "Df = Df.dropna()"
      ],
      "execution_count": null,
      "outputs": []
    },
    {
      "cell_type": "code",
      "metadata": {
        "colab": {
          "base_uri": "https://localhost:8080/",
          "height": 426
        },
        "id": "gvE6wxX9n3U9",
        "outputId": "69d6a49a-33e4-43cf-8b5a-e9341927ff50"
      },
      "source": [
        "#Plot the closing price of GLD\r\n",
        "Df.Close.plot(figsize=(10, 7), color='r')\r\n",
        "plt.ylabel(\"Gold ETF Prices\")\r\n",
        "plt.title(\"Gold ETF Price Series\")\r\n",
        "plt.show()"
      ],
      "execution_count": null,
      "outputs": [
        {
          "output_type": "display_data",
          "data": {
            "image/png": "[encoded data removed]",
            "text/plain": [
              "<Figure size 720x504 with 1 Axes>"
            ]
          },
          "metadata": {
            "tags": []
          }
        }
      ]
    },
    {
      "cell_type": "markdown",
      "metadata": {
        "id": "JrPvFua8o9QH"
      },
      "source": [
        "#### *Define: Explanatory Variables*\r\n",
        "- An explanatory variable is a variable that is manipulated to determine the value of the Gold ETF price the next day. - Simply, they are the features which we want to use to predict the Gold ETF price. \r\n",
        "- The explanatory variables in this strategy are the moving averages for past 3 days and 9 days. \r\n",
        "- We drop the NaN values using dropna() function and store the feature variables in X.\r\n",
        "- However, you can add more variables to X which you think are useful to predict the prices of the Gold ETF. \r\n",
        "- These variables can be technical indicators, the price of another ETF such as Gold miners ETF (GDX) or Oil ETF (USO), or US economic data.\r\n",
        "\r\n"
      ]
    },
    {
      "cell_type": "code",
      "metadata": {
        "id": "occZUP2EoK4f"
      },
      "source": [
        "Df['S_3'] = Df['Close'].rolling(window=3).mean()\r\n",
        "Df['S_9'] = Df['Close'].rolling(window=9).mean()\r\n",
        "Df['next_day_price'] = Df['Close'].shift(-1)"
      ],
      "execution_count": null,
      "outputs": []
    },
    {
      "cell_type": "code",
      "metadata": {
        "id": "fNBkHdVqp3Xs"
      },
      "source": [
        "Df = Df.dropna()\r\n",
        "X = Df[['S_3', 'S_9']]"
      ],
      "execution_count": null,
      "outputs": []
    },
    {
      "cell_type": "markdown",
      "metadata": {
        "id": "F36bDjappqmG"
      },
      "source": [
        "#### *Define: Dependent Variable*\r\n",
        "- Similarly, the dependent variable depends on the values of the explanatory variables. \r\n",
        "- Simply put, it is the Gold ETF price which we are trying to predict. \r\n",
        "- We store the Gold ETF price in y."
      ]
    },
    {
      "cell_type": "code",
      "metadata": {
        "id": "LjXhbqyKprQ1"
      },
      "source": [
        "y = Df['next_day_price']"
      ],
      "execution_count": null,
      "outputs": []
    },
    {
      "cell_type": "markdown",
      "metadata": {
        "id": "RUnp07TjqhxV"
      },
      "source": [
        "#### *Split the data into train and test dataset*\r\n",
        "- In this step, we split the predictors and output data into train and test data. \r\n",
        "- The training data is used to create the linear regression model, by pairing the input with expected output. \r\n",
        "- The test data is used to estimate how well the model has been trained."
      ]
    },
    {
      "cell_type": "markdown",
      "metadata": {
        "id": "FOO9dIXcq1fi"
      },
      "source": [
        "1. First 80% of the data is used for training and remaining data for testing\r\n",
        "2. X_train & y_train are training dataset\r\n",
        "3. X_test & y_test are test dataset"
      ]
    },
    {
      "cell_type": "code",
      "metadata": {
        "id": "4SuxDgd8qbgQ"
      },
      "source": [
        "# Split the data into train and test dataset\r\n",
        "t = .8\r\n",
        "t = int(t*len(Df))"
      ],
      "execution_count": null,
      "outputs": []
    },
    {
      "cell_type": "code",
      "metadata": {
        "id": "2U7DP6t5rHHH"
      },
      "source": [
        "# Train dataset\r\n",
        "X_train = X[:t]\r\n",
        "y_train = y[:t]"
      ],
      "execution_count": null,
      "outputs": []
    },
    {
      "cell_type": "code",
      "metadata": {
        "id": "gr-7AD8yrJEf"
      },
      "source": [
        "# Test dataset\r\n",
        "X_test = X[t:]\r\n",
        "y_test = y[t:]"
      ],
      "execution_count": null,
      "outputs": []
    },
    {
      "cell_type": "markdown",
      "metadata": {
        "id": "IYlnP4ITrNRy"
      },
      "source": [
        "#### *Create a linear regression model*\r\n",
        "- We will now create a linear regression model. But, what is linear regression?\r\n",
        "\r\n",
        "- If we try to capture a mathematical relationship between ‘x’ and ‘y’ variables that “best” explains the observed values of ‘y’ in terms of observed values of ‘x’ by fitting a line through a scatter plots then such an equation between x and y is called linear regression analysis.\r\n",
        "\r\n",
        "- To break it down further, regression explains the variation in a dependent variable in terms of independent variables. \r\n",
        "- The dependent variable - ‘y’ is the variable that you want to predict. \r\n",
        "- The independent variables - ‘x’ are the explanatory variables that you use to predict the dependent variable. \r\n",
        "- The following regression equation describes that relation:\r\n",
        "\r\n",
        "*Y = m1 * X1 + m2 * X2 + C \r\n",
        "Gold ETF price = m1 * 3 days moving average + m2 * 15 days moving average + c*\r\n",
        "\r\n",
        "- Then we use the fit method to fit the independent and dependent variables (x’s and y’s) to generate coefficient and constant for regression."
      ]
    },
    {
      "cell_type": "code",
      "metadata": {
        "colab": {
          "base_uri": "https://localhost:8080/"
        },
        "id": "1jJt6SC7rLHh",
        "outputId": "551e2a1f-ce01-4bfb-dcb8-81f77531b016"
      },
      "source": [
        "# Create a linear regression model\r\n",
        "linear = LinearRegression().fit(X_train, y_train)\r\n",
        "print(\"Linear Regression model\")\r\n",
        "print(\"Gold ETF Price (y) = %.2f * 3 Days Moving Average (x1) \\\r\n",
        "+ %.2f * 9 Days Moving Average (x2) \\\r\n",
        "+ %.2f (constant)\" % (linear.coef_[0], linear.coef_[1], linear.intercept_))"
      ],
      "execution_count": null,
      "outputs": [
        {
          "output_type": "stream",
          "text": [
            "Linear Regression model\n",
            "Gold ETF Price (y) = 1.20 * 3 Days Moving Average (x1) + -0.21 * 9 Days Moving Average (x2) + 0.44 (constant)\n"
          ],
          "name": "stdout"
        }
      ]
    },
    {
      "cell_type": "markdown",
      "metadata": {
        "id": "yexwnHSEsLpc"
      },
      "source": [
        "#### *Predict the Gold ETF prices*\r\n",
        "- Now, it’s time to check if the model works in the test dataset. \r\n",
        "- We predict the Gold ETF prices using the linear model created using the train dataset. \r\n",
        "- The predict method finds the Gold ETF price (y) for the given explanatory variable X."
      ]
    },
    {
      "cell_type": "code",
      "metadata": {
        "colab": {
          "base_uri": "https://localhost:8080/",
          "height": 418
        },
        "id": "E2_arUqzsC-A",
        "outputId": "1791653a-ac51-44be-fe59-b7b3952b9f04"
      },
      "source": [
        "# Predicting the Gold ETF prices\r\n",
        "predicted_price = linear.predict(X_test)\r\n",
        "predicted_price = pd.DataFrame(predicted_price, index=y_test.index, columns=['price'])\r\n",
        "predicted_price.plot(figsize=(10, 7))\r\n",
        "y_test.plot()\r\n",
        "plt.legend(['predicted_price', 'actual_price'])\r\n",
        "plt.ylabel(\"Gold ETF Price\")\r\n",
        "plt.show()"
      ],
      "execution_count": null,
      "outputs": [
        {
          "output_type": "display_data",
          "data": {
            "image/png": "[encoded data removed]",
            "text/plain": [
              "<Figure size 720x504 with 1 Axes>"
            ]
          },
          "metadata": {
            "tags": []
          }
        }
      ]
    },
    {
      "cell_type": "markdown",
      "metadata": {
        "id": "iS5HDHt2smlo"
      },
      "source": [
        "- The graph shows the predicted and actual price of the Gold ETF.\r\n",
        "\r\n"
      ]
    },
    {
      "cell_type": "markdown",
      "metadata": {
        "id": "xK89vJDUssHD"
      },
      "source": [
        "#### *Goodness of the fit using the score() function.*"
      ]
    },
    {
      "cell_type": "code",
      "metadata": {
        "colab": {
          "base_uri": "https://localhost:8080/"
        },
        "id": "7aE62jV9sbhx",
        "outputId": "3f6eb99a-ea30-43be-b03b-377756ccdc9b"
      },
      "source": [
        "# R square\r\n",
        "r2_score = linear.score(X[t:], y[t:])*100\r\n",
        "float(\"{0:.2f}\".format(r2_score))"
      ],
      "execution_count": null,
      "outputs": [
        {
          "output_type": "execute_result",
          "data": {
            "text/plain": [
              "99.32"
            ]
          },
          "metadata": {
            "tags": []
          },
          "execution_count": 57
        }
      ]
    },
    {
      "cell_type": "markdown",
      "metadata": {
        "id": "bdMoi6CTs3Be"
      },
      "source": [
        "- As it can be seen, the R-squared of the model is 99.34%. \r\n",
        "- R-squared is always between 0 and 100%.\r\n",
        "- A score close to 100% indicates that the model explains the Gold ETF prices well."
      ]
    },
    {
      "cell_type": "markdown",
      "metadata": {
        "id": "NqP8aACPtK9d"
      },
      "source": [
        "#### *Plotting cumulative returns*\r\n",
        "- Let’s calculate the cumulative returns of this strategy to analyse its performance.\r\n",
        "1. The steps to calculate the cumulative returns are as follows:\r\n",
        "2. Generate daily percentage change of gold price\r\n",
        "3. Create a buy trading signal represented by “1” when the next day’s predicted price is more than the current day predicted price. No position is taken otherwise\r\n",
        "4. Calculate the strategy returns by multiplying the daily percentage change with the trading signal.\r\n",
        "5. Finally, we will plot the cumulative returns graph"
      ]
    },
    {
      "cell_type": "code",
      "metadata": {
        "colab": {
          "base_uri": "https://localhost:8080/",
          "height": 418
        },
        "id": "wCmXP3H3syvR",
        "outputId": "c1000a8f-c241-4363-a91a-6cdba46639cf"
      },
      "source": [
        "gold = pd.DataFrame()\r\n",
        "\r\n",
        "gold['price'] = Df[t:]['Close']\r\n",
        "gold['predicted_price_next_day'] = predicted_price\r\n",
        "gold['actual_price_next_day'] = y_test\r\n",
        "gold['gold_returns'] = gold['price'].pct_change().shift(-1)\r\n",
        "\r\n",
        "gold['signal'] = np.where(gold.predicted_price_next_day.shift(1) < gold.predicted_price_next_day,1,0)\r\n",
        "\r\n",
        "gold['strategy_returns'] = gold.signal * gold['gold_returns']\r\n",
        "((gold['strategy_returns']+1).cumprod()).plot(figsize=(10,7),color='r')\r\n",
        "plt.ylabel('Cumulative Returns')\r\n",
        "plt.show()"
      ],
      "execution_count": null,
      "outputs": [
        {
          "output_type": "display_data",
          "data": {
            "image/png": "[encoded data removed]",
            "text/plain": [
              "<Figure size 720x504 with 1 Axes>"
            ]
          },
          "metadata": {
            "tags": []
          }
        }
      ]
    },
    {
      "cell_type": "markdown",
      "metadata": {
        "id": "xnKI0VXBuPoh"
      },
      "source": [
        "- We will also calculate the Sharpe ratio.\r\n",
        "\r\n"
      ]
    },
    {
      "cell_type": "code",
      "metadata": {
        "colab": {
          "base_uri": "https://localhost:8080/",
          "height": 35
        },
        "id": "zjlysiy2uIAY",
        "outputId": "94186885-7e0e-4b95-85c6-a3afb2858ed6"
      },
      "source": [
        "'Sharpe Ratio %.2f' % (gold['strategy_returns'].mean()/gold['strategy_returns'].std()*(252**0.5))\r\n"
      ],
      "execution_count": null,
      "outputs": [
        {
          "output_type": "execute_result",
          "data": {
            "application/vnd.google.colaboratory.intrinsic+json": {
              "type": "string"
            },
            "text/plain": [
              "'Sharpe Ratio 1.03'"
            ]
          },
          "metadata": {
            "tags": []
          },
          "execution_count": 59
        }
      ]
    },
    {
      "cell_type": "markdown",
      "metadata": {
        "id": "6tBrTXYruXhA"
      },
      "source": [
        "#### *How to use this model to predict daily moves?*\r\n",
        "- We can use the following code to predict the gold prices and give a trading signal whether we should buy GLD or take no position."
      ]
    },
    {
      "cell_type": "code",
      "metadata": {
        "colab": {
          "base_uri": "https://localhost:8080/",
          "height": 640
        },
        "id": "EXZAHRVguSzA",
        "outputId": "ea10d366-bb85-4b09-8a26-7e410f7d5abc"
      },
      "source": [
        "data = yf.download('GLD', '2008-01-01', '2021-01-13', auto_adjust=True)\r\n",
        "data['S_3'] = data['Close'].rolling(window=3).mean()\r\n",
        "data['S_9'] = data['Close'].rolling(window=9).mean()\r\n",
        "data = data.dropna()\r\n",
        "data['predicted_gold_price'] = linear.predict(data[['S_3', 'S_9']])\r\n",
        "data['signal'] = np.where(data.predicted_gold_price.shift(1) < data.predicted_gold_price,\"Buy\",\"No Position\")\r\n",
        "data.tail(7)"
      ],
      "execution_count": null,
      "outputs": [
        {
          "output_type": "stream",
          "text": [
            "\r[*********************100%***********************]  1 of 1 completed\n"
          ],
          "name": "stdout"
        },
        {
          "output_type": "stream",
          "text": [
            "/usr/local/lib/python3.6/dist-packages/ipykernel_launcher.py:5: SettingWithCopyWarning: \n",
            "A value is trying to be set on a copy of a slice from a DataFrame.\n",
            "Try using .loc[row_indexer,col_indexer] = value instead\n",
            "\n",
            "See the caveats in the documentation: https://pandas.pydata.org/pandas-docs/stable/user_guide/indexing.html#returning-a-view-versus-a-copy\n",
            "  \"\"\"\n",
            "/usr/local/lib/python3.6/dist-packages/ipykernel_launcher.py:6: SettingWithCopyWarning: \n",
            "A value is trying to be set on a copy of a slice from a DataFrame.\n",
            "Try using .loc[row_indexer,col_indexer] = value instead\n",
            "\n",
            "See the caveats in the documentation: https://pandas.pydata.org/pandas-docs/stable/user_guide/indexing.html#returning-a-view-versus-a-copy\n",
            "  \n"
          ],
          "name": "stderr"
        },
        {
          "output_type": "execute_result",
          "data": {
            "text/html": [
              "<div>\n",
              "<style scoped>\n",
              "    .dataframe tbody tr th:only-of-type {\n",
              "        vertical-align: middle;\n",
              "    }\n",
              "\n",
              "    .dataframe tbody tr th {\n",
              "        vertical-align: top;\n",
              "    }\n",
              "\n",
              "    .dataframe thead th {\n",
              "        text-align: right;\n",
              "    }\n",
              "</style>\n",
              "<table border=\"1\" class=\"dataframe\">\n",
              "  <thead>\n",
              "    <tr style=\"text-align: right;\">\n",
              "      <th></th>\n",
              "      <th>Open</th>\n",
              "      <th>High</th>\n",
              "      <th>Low</th>\n",
              "      <th>Close</th>\n",
              "      <th>Volume</th>\n",
              "      <th>S_3</th>\n",
              "      <th>S_9</th>\n",
              "      <th>predicted_gold_price</th>\n",
              "      <th>signal</th>\n",
              "    </tr>\n",
              "    <tr>\n",
              "      <th>Date</th>\n",
              "      <th></th>\n",
              "      <th></th>\n",
              "      <th></th>\n",
              "      <th></th>\n",
              "      <th></th>\n",
              "      <th></th>\n",
              "      <th></th>\n",
              "      <th></th>\n",
              "      <th></th>\n",
              "    </tr>\n",
              "  </thead>\n",
              "  <tbody>\n",
              "    <tr>\n",
              "      <th>2021-01-04</th>\n",
              "      <td>181.970001</td>\n",
              "      <td>182.399994</td>\n",
              "      <td>180.960007</td>\n",
              "      <td>182.330002</td>\n",
              "      <td>14331400</td>\n",
              "      <td>179.463333</td>\n",
              "      <td>176.980003</td>\n",
              "      <td>179.797857</td>\n",
              "      <td>Buy</td>\n",
              "    </tr>\n",
              "    <tr>\n",
              "      <th>2021-01-05</th>\n",
              "      <td>182.869995</td>\n",
              "      <td>183.210007</td>\n",
              "      <td>181.820007</td>\n",
              "      <td>182.869995</td>\n",
              "      <td>12718800</td>\n",
              "      <td>181.186666</td>\n",
              "      <td>177.756668</td>\n",
              "      <td>181.710091</td>\n",
              "      <td>Buy</td>\n",
              "    </tr>\n",
              "    <tr>\n",
              "      <th>2021-01-06</th>\n",
              "      <td>181.490005</td>\n",
              "      <td>181.580002</td>\n",
              "      <td>178.240005</td>\n",
              "      <td>179.899994</td>\n",
              "      <td>18453500</td>\n",
              "      <td>181.699997</td>\n",
              "      <td>178.357778</td>\n",
              "      <td>182.203610</td>\n",
              "      <td>Buy</td>\n",
              "    </tr>\n",
              "    <tr>\n",
              "      <th>2021-01-07</th>\n",
              "      <td>179.690002</td>\n",
              "      <td>179.919998</td>\n",
              "      <td>178.839996</td>\n",
              "      <td>179.479996</td>\n",
              "      <td>7110200</td>\n",
              "      <td>180.749995</td>\n",
              "      <td>178.783334</td>\n",
              "      <td>180.973825</td>\n",
              "      <td>No Position</td>\n",
              "    </tr>\n",
              "    <tr>\n",
              "      <th>2021-01-08</th>\n",
              "      <td>176.830002</td>\n",
              "      <td>176.990005</td>\n",
              "      <td>171.479996</td>\n",
              "      <td>173.339996</td>\n",
              "      <td>24399900</td>\n",
              "      <td>177.573329</td>\n",
              "      <td>178.448888</td>\n",
              "      <td>177.223201</td>\n",
              "      <td>No Position</td>\n",
              "    </tr>\n",
              "    <tr>\n",
              "      <th>2021-01-11</th>\n",
              "      <td>172.139999</td>\n",
              "      <td>173.679993</td>\n",
              "      <td>172.029999</td>\n",
              "      <td>173.000000</td>\n",
              "      <td>8579200</td>\n",
              "      <td>175.273331</td>\n",
              "      <td>178.147776</td>\n",
              "      <td>174.519773</td>\n",
              "      <td>No Position</td>\n",
              "    </tr>\n",
              "    <tr>\n",
              "      <th>2021-01-12</th>\n",
              "      <td>173.130005</td>\n",
              "      <td>174.179993</td>\n",
              "      <td>172.320007</td>\n",
              "      <td>174.119995</td>\n",
              "      <td>9780800</td>\n",
              "      <td>173.486664</td>\n",
              "      <td>177.899997</td>\n",
              "      <td>172.422571</td>\n",
              "      <td>No Position</td>\n",
              "    </tr>\n",
              "  </tbody>\n",
              "</table>\n",
              "</div>"
            ],
            "text/plain": [
              "                  Open        High  ...  predicted_gold_price       signal\n",
              "Date                                ...                                   \n",
              "2021-01-04  181.970001  182.399994  ...            179.797857          Buy\n",
              "2021-01-05  182.869995  183.210007  ...            181.710091          Buy\n",
              "2021-01-06  181.490005  181.580002  ...            182.203610          Buy\n",
              "2021-01-07  179.690002  179.919998  ...            180.973825  No Position\n",
              "2021-01-08  176.830002  176.990005  ...            177.223201  No Position\n",
              "2021-01-11  172.139999  173.679993  ...            174.519773  No Position\n",
              "2021-01-12  173.130005  174.179993  ...            172.422571  No Position\n",
              "\n",
              "[7 rows x 9 columns]"
            ]
          },
          "metadata": {
            "tags": []
          },
          "execution_count": 62
        }
      ]
    },
    {
      "cell_type": "markdown",
      "metadata": {
        "id": "1VPKcncXwSUq"
      },
      "source": [
        "# COMPLETED"
      ]
    }
  ]
}